{
 "cells": [
  {
   "cell_type": "markdown",
   "metadata": {},
   "source": [
    "## How far virtual employees live from the office?\n"
   ]
  },
  {
   "cell_type": "markdown",
   "metadata": {},
   "source": [
    "I was doing audit of our virtual workforce in Genesys to answer the question whether our virtual employees actually live that far from the office or if it was more of the personal preference to work from home? The idea was to use Bing Maps to calculate the average time driving between office zip code and employee's home zip code.\n",
    "\n",
    "The further analysis itself was carried out in Tableau, where I joined employee IDs back to the full details. "
   ]
  },
  {
   "cell_type": "code",
   "execution_count": 1,
   "metadata": {},
   "outputs": [],
   "source": [
    "## let's import modules to communicate with Bing Maps API and time for delay in between the requests sent. \n",
    "\n",
    "import urllib.request\n",
    "import time\n",
    "import json\n",
    "\n",
    "bingMapsKey = \"YOUR-API-CALL\"\n",
    "o = 'json'"
   ]
  },
  {
   "cell_type": "markdown",
   "metadata": {},
   "source": [
    "To use the functionality you need to obtain API key from https://www.bingmapsportal.com/. \n",
    "\n",
    "In this example I use json to get output (o = 'json') but you can modify it to xml, if you have to."
   ]
  },
  {
   "cell_type": "code",
   "execution_count": 2,
   "metadata": {},
   "outputs": [],
   "source": [
    "def getCommute(homeZip):\n",
    "    # adding delay  \n",
    "    time.sleep(1)\n",
    "    wp0 = homeZip\n",
    "    \n",
    "    # this is our Daly City office zip code. Add functionality to ask use to enter zip-code or change to your zip code.\n",
    "    \n",
    "    wp1 = '94014'\n",
    "    encodedDest = urllib.parse.quote(wp1, safe='')\n",
    "    routeUrl = \"http://dev.virtualearth.net/REST/V1/Routes/Driving?o=\" + o + \"&wp.0=\" + wp0 + \"&wp.1=\" + encodedDest + \"&key=\" + bingMapsKey\n",
    "    request = urllib.request.Request(routeUrl)\n",
    "    response = urllib.request.urlopen(request)\n",
    "    r = response.read().decode(encoding=\"utf-8\")\n",
    "    result = json.loads(r)\n",
    "    \n",
    "    # I am using value from Travel Duration but you can replace to whatever you need.\n",
    "    \n",
    "    itineraryItems = result['resourceSets'][0]['resources'][0]['travelDuration']\n",
    "    return itineraryItems"
   ]
  },
  {
   "cell_type": "code",
   "execution_count": 3,
   "metadata": {},
   "outputs": [],
   "source": [
    "# Let's add pandas because it is the easiest way for myself to lambda in the column with output, then read csv with your data. \n",
    "# The structure of data is simple - two columns \"Employee Number\" and \"Postal Code\"\n",
    "\n",
    "import pandas as pd\n",
    "df = pd.read_csv(\"gtsvirtual.csv\")"
   ]
  },
  {
   "cell_type": "code",
   "execution_count": 4,
   "metadata": {},
   "outputs": [],
   "source": [
    "# Let's run our function on some records and add the commute time to the dataframe \n",
    "\n",
    "df['Commute'] = df[:5].apply(lambda row: getCommute(str(row['Postal Code'])), axis=1)"
   ]
  },
  {
   "cell_type": "code",
   "execution_count": 5,
   "metadata": {},
   "outputs": [
    {
     "data": {
      "text/html": [
       "<div>\n",
       "<style scoped>\n",
       "    .dataframe tbody tr th:only-of-type {\n",
       "        vertical-align: middle;\n",
       "    }\n",
       "\n",
       "    .dataframe tbody tr th {\n",
       "        vertical-align: top;\n",
       "    }\n",
       "\n",
       "    .dataframe thead th {\n",
       "        text-align: right;\n",
       "    }\n",
       "</style>\n",
       "<table border=\"1\" class=\"dataframe\">\n",
       "  <thead>\n",
       "    <tr style=\"text-align: right;\">\n",
       "      <th></th>\n",
       "      <th>Employee Number</th>\n",
       "      <th>Postal Code</th>\n",
       "      <th>Commute</th>\n",
       "    </tr>\n",
       "  </thead>\n",
       "  <tbody>\n",
       "    <tr>\n",
       "      <th>0</th>\n",
       "      <td>LK0078017</td>\n",
       "      <td>90034</td>\n",
       "      <td>19895.0</td>\n",
       "    </tr>\n",
       "    <tr>\n",
       "      <th>1</th>\n",
       "      <td>1001582</td>\n",
       "      <td>90038</td>\n",
       "      <td>19816.0</td>\n",
       "    </tr>\n",
       "    <tr>\n",
       "      <th>2</th>\n",
       "      <td>LK0079373</td>\n",
       "      <td>90038</td>\n",
       "      <td>19816.0</td>\n",
       "    </tr>\n",
       "    <tr>\n",
       "      <th>3</th>\n",
       "      <td>200652</td>\n",
       "      <td>90065</td>\n",
       "      <td>19942.0</td>\n",
       "    </tr>\n",
       "    <tr>\n",
       "      <th>4</th>\n",
       "      <td>LK0080296</td>\n",
       "      <td>90069</td>\n",
       "      <td>20236.0</td>\n",
       "    </tr>\n",
       "  </tbody>\n",
       "</table>\n",
       "</div>"
      ],
      "text/plain": [
       "  Employee Number  Postal Code  Commute\n",
       "0       LK0078017        90034  19895.0\n",
       "1         1001582        90038  19816.0\n",
       "2       LK0079373        90038  19816.0\n",
       "3          200652        90065  19942.0\n",
       "4       LK0080296        90069  20236.0"
      ]
     },
     "execution_count": 5,
     "metadata": {},
     "output_type": "execute_result"
    }
   ],
   "source": [
    "# Checking on the output\n",
    "df[:5]"
   ]
  },
  {
   "cell_type": "markdown",
   "metadata": {},
   "source": [
    "Since it works make sure to expand the slice and run the results for the entire data set."
   ]
  },
  {
   "cell_type": "code",
   "execution_count": 6,
   "metadata": {},
   "outputs": [],
   "source": [
    "#Save output to csv\n",
    "\n",
    "df.to_csv(\"Output_forVFW.csv\", index=False)"
   ]
  }
 ],
 "metadata": {
  "kernelspec": {
   "display_name": "Python 3",
   "language": "python",
   "name": "python3"
  },
  "language_info": {
   "codemirror_mode": {
    "name": "ipython",
    "version": 3
   },
   "file_extension": ".py",
   "mimetype": "text/x-python",
   "name": "python",
   "nbconvert_exporter": "python",
   "pygments_lexer": "ipython3",
   "version": "3.7.1"
  }
 },
 "nbformat": 4,
 "nbformat_minor": 2
}
